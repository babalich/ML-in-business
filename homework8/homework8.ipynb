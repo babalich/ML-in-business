{
 "cells": [
  {
   "cell_type": "code",
   "execution_count": 35,
   "metadata": {},
   "outputs": [],
   "source": [
    "import numpy as np\n",
    "import pandas as pd\n",
    "from lightgbm import LGBMClassifier\n",
    "from sklearn.model_selection import train_test_split\n",
    "import seaborn as sns\n",
    "import matplotlib.pyplot as plt\n",
    "from sklearn.preprocessing import StandardScaler, LabelEncoder\n",
    "import warnings\n",
    "warnings.filterwarnings(\"ignore\")"
   ]
  },
  {
   "cell_type": "code",
   "execution_count": 36,
   "metadata": {},
   "outputs": [],
   "source": [
    "from sklearn.metrics import accuracy_score"
   ]
  },
  {
   "cell_type": "code",
   "execution_count": 37,
   "metadata": {},
   "outputs": [],
   "source": [
    "from sklearn.base import BaseEstimator, TransformerMixin\n",
    "\n",
    "class ColumnSelector(BaseEstimator, TransformerMixin):\n",
    "    \"\"\"\n",
    "    Transformer to select a single column from the data frame to perform additional transformations on\n",
    "    \"\"\"\n",
    "    def __init__(self, key):\n",
    "        self.key = key\n",
    "\n",
    "    def fit(self, X, y=None):\n",
    "        return self\n",
    "\n",
    "    def transform(self, X):\n",
    "        return X[self.key]\n",
    "    \n",
    "class NumberSelector(BaseEstimator, TransformerMixin):\n",
    "    \"\"\"\n",
    "    Transformer to select a single column from the data frame to perform additional transformations on\n",
    "    Use on numeric columns in the data\n",
    "    \"\"\"\n",
    "    def __init__(self, key):\n",
    "        self.key = key\n",
    "\n",
    "    def fit(self, X, y=None):\n",
    "        return self\n",
    "\n",
    "    def transform(self, X):\n",
    "        return X[[self.key]]"
   ]
  },
  {
   "cell_type": "code",
   "execution_count": 38,
   "metadata": {},
   "outputs": [],
   "source": [
    "data = pd.read_csv('winequality-red.csv')"
   ]
  },
  {
   "cell_type": "code",
   "execution_count": 39,
   "metadata": {},
   "outputs": [
    {
     "data": {
      "text/html": [
       "<div>\n",
       "<style scoped>\n",
       "    .dataframe tbody tr th:only-of-type {\n",
       "        vertical-align: middle;\n",
       "    }\n",
       "\n",
       "    .dataframe tbody tr th {\n",
       "        vertical-align: top;\n",
       "    }\n",
       "\n",
       "    .dataframe thead th {\n",
       "        text-align: right;\n",
       "    }\n",
       "</style>\n",
       "<table border=\"1\" class=\"dataframe\">\n",
       "  <thead>\n",
       "    <tr style=\"text-align: right;\">\n",
       "      <th></th>\n",
       "      <th>fixed acidity</th>\n",
       "      <th>volatile acidity</th>\n",
       "      <th>citric acid</th>\n",
       "      <th>residual sugar</th>\n",
       "      <th>chlorides</th>\n",
       "      <th>free sulfur dioxide</th>\n",
       "      <th>total sulfur dioxide</th>\n",
       "      <th>density</th>\n",
       "      <th>pH</th>\n",
       "      <th>sulphates</th>\n",
       "      <th>alcohol</th>\n",
       "      <th>quality</th>\n",
       "    </tr>\n",
       "  </thead>\n",
       "  <tbody>\n",
       "    <tr>\n",
       "      <th>0</th>\n",
       "      <td>7.4</td>\n",
       "      <td>0.70</td>\n",
       "      <td>0.00</td>\n",
       "      <td>1.9</td>\n",
       "      <td>0.076</td>\n",
       "      <td>11.0</td>\n",
       "      <td>34.0</td>\n",
       "      <td>0.9978</td>\n",
       "      <td>3.51</td>\n",
       "      <td>0.56</td>\n",
       "      <td>9.4</td>\n",
       "      <td>0</td>\n",
       "    </tr>\n",
       "    <tr>\n",
       "      <th>1</th>\n",
       "      <td>7.8</td>\n",
       "      <td>0.88</td>\n",
       "      <td>0.00</td>\n",
       "      <td>2.6</td>\n",
       "      <td>0.098</td>\n",
       "      <td>25.0</td>\n",
       "      <td>67.0</td>\n",
       "      <td>0.9968</td>\n",
       "      <td>3.20</td>\n",
       "      <td>0.68</td>\n",
       "      <td>9.8</td>\n",
       "      <td>0</td>\n",
       "    </tr>\n",
       "    <tr>\n",
       "      <th>2</th>\n",
       "      <td>7.8</td>\n",
       "      <td>0.76</td>\n",
       "      <td>0.04</td>\n",
       "      <td>2.3</td>\n",
       "      <td>0.092</td>\n",
       "      <td>15.0</td>\n",
       "      <td>54.0</td>\n",
       "      <td>0.9970</td>\n",
       "      <td>3.26</td>\n",
       "      <td>0.65</td>\n",
       "      <td>9.8</td>\n",
       "      <td>0</td>\n",
       "    </tr>\n",
       "    <tr>\n",
       "      <th>3</th>\n",
       "      <td>11.2</td>\n",
       "      <td>0.28</td>\n",
       "      <td>0.56</td>\n",
       "      <td>1.9</td>\n",
       "      <td>0.075</td>\n",
       "      <td>17.0</td>\n",
       "      <td>60.0</td>\n",
       "      <td>0.9980</td>\n",
       "      <td>3.16</td>\n",
       "      <td>0.58</td>\n",
       "      <td>9.8</td>\n",
       "      <td>0</td>\n",
       "    </tr>\n",
       "    <tr>\n",
       "      <th>4</th>\n",
       "      <td>7.4</td>\n",
       "      <td>0.70</td>\n",
       "      <td>0.00</td>\n",
       "      <td>1.9</td>\n",
       "      <td>0.076</td>\n",
       "      <td>11.0</td>\n",
       "      <td>34.0</td>\n",
       "      <td>0.9978</td>\n",
       "      <td>3.51</td>\n",
       "      <td>0.56</td>\n",
       "      <td>9.4</td>\n",
       "      <td>0</td>\n",
       "    </tr>\n",
       "  </tbody>\n",
       "</table>\n",
       "</div>"
      ],
      "text/plain": [
       "   fixed acidity  volatile acidity  citric acid  residual sugar  chlorides  \\\n",
       "0            7.4              0.70         0.00             1.9      0.076   \n",
       "1            7.8              0.88         0.00             2.6      0.098   \n",
       "2            7.8              0.76         0.04             2.3      0.092   \n",
       "3           11.2              0.28         0.56             1.9      0.075   \n",
       "4            7.4              0.70         0.00             1.9      0.076   \n",
       "\n",
       "   free sulfur dioxide  total sulfur dioxide  density    pH  sulphates  \\\n",
       "0                 11.0                  34.0   0.9978  3.51       0.56   \n",
       "1                 25.0                  67.0   0.9968  3.20       0.68   \n",
       "2                 15.0                  54.0   0.9970  3.26       0.65   \n",
       "3                 17.0                  60.0   0.9980  3.16       0.58   \n",
       "4                 11.0                  34.0   0.9978  3.51       0.56   \n",
       "\n",
       "   alcohol  quality  \n",
       "0      9.4        0  \n",
       "1      9.8        0  \n",
       "2      9.8        0  \n",
       "3      9.8        0  \n",
       "4      9.4        0  "
      ]
     },
     "execution_count": 39,
     "metadata": {},
     "output_type": "execute_result"
    }
   ],
   "source": [
    "data.head(5)"
   ]
  },
  {
   "cell_type": "code",
   "execution_count": null,
   "metadata": {},
   "outputs": [],
   "source": []
  },
  {
   "cell_type": "markdown",
   "metadata": {},
   "source": [
    "<b>1.Скачать любой понравившийся вам датасет с UCI repository(можете даже свой какой-то взять) и сразу же разделите его на тренировочную и тестовую выборки. Тестовую выборку сохраните на диск и больше не трогайте. </b>"
   ]
  },
  {
   "cell_type": "code",
   "execution_count": 40,
   "metadata": {},
   "outputs": [],
   "source": [
    "target_col = 'quality'"
   ]
  },
  {
   "cell_type": "code",
   "execution_count": 41,
   "metadata": {},
   "outputs": [],
   "source": [
    "num_cols= [x for x in data.select_dtypes(include=np.number).columns.tolist() if x not in target_col]"
   ]
  },
  {
   "cell_type": "code",
   "execution_count": 42,
   "metadata": {},
   "outputs": [],
   "source": [
    "x_train, x_test, y_train, y_test = train_test_split(data[num_cols], data[target_col], random_state=10, test_size=0.2)"
   ]
  },
  {
   "cell_type": "code",
   "execution_count": 43,
   "metadata": {},
   "outputs": [],
   "source": [
    "x_train.to_csv('x_train.csv', index=None)\n",
    "x_test.to_csv('x_test.csv', index=None)\n",
    "y_train.to_csv('y_train.csv', index=None)\n",
    "y_test.to_csv('y_test.csv', index=None)"
   ]
  },
  {
   "cell_type": "code",
   "execution_count": 45,
   "metadata": {},
   "outputs": [
    {
     "data": {
      "text/plain": [
       "((1279, 11), (1279,))"
      ]
     },
     "execution_count": 45,
     "metadata": {},
     "output_type": "execute_result"
    }
   ],
   "source": [
    "x_train.shape, y_train.shape"
   ]
  },
  {
   "cell_type": "code",
   "execution_count": 46,
   "metadata": {},
   "outputs": [
    {
     "data": {
      "text/plain": [
       "((320, 11), (320,))"
      ]
     },
     "execution_count": 46,
     "metadata": {},
     "output_type": "execute_result"
    }
   ],
   "source": [
    "x_test.shape, y_test.shape"
   ]
  },
  {
   "cell_type": "markdown",
   "metadata": {},
   "source": [
    "<b>2. Провести EDA (exploratory data analysis: histograms, boxplots - visualization, etc). Например </b>"
   ]
  },
  {
   "cell_type": "code",
   "execution_count": 10,
   "metadata": {},
   "outputs": [
    {
     "name": "stdout",
     "output_type": "stream",
     "text": [
      "<class 'pandas.core.frame.DataFrame'>\n",
      "RangeIndex: 1599 entries, 0 to 1598\n",
      "Data columns (total 12 columns):\n",
      "fixed acidity           1599 non-null float64\n",
      "volatile acidity        1599 non-null float64\n",
      "citric acid             1599 non-null float64\n",
      "residual sugar          1599 non-null float64\n",
      "chlorides               1599 non-null float64\n",
      "free sulfur dioxide     1599 non-null float64\n",
      "total sulfur dioxide    1599 non-null float64\n",
      "density                 1599 non-null float64\n",
      "pH                      1599 non-null float64\n",
      "sulphates               1599 non-null float64\n",
      "alcohol                 1599 non-null float64\n",
      "quality                 1599 non-null int64\n",
      "dtypes: float64(11), int64(1)\n",
      "memory usage: 150.0 KB\n"
     ]
    }
   ],
   "source": [
    "data.info()"
   ]
  },
  {
   "cell_type": "code",
   "execution_count": 11,
   "metadata": {},
   "outputs": [
    {
     "data": {
      "text/html": [
       "<div>\n",
       "<style scoped>\n",
       "    .dataframe tbody tr th:only-of-type {\n",
       "        vertical-align: middle;\n",
       "    }\n",
       "\n",
       "    .dataframe tbody tr th {\n",
       "        vertical-align: top;\n",
       "    }\n",
       "\n",
       "    .dataframe thead th {\n",
       "        text-align: right;\n",
       "    }\n",
       "</style>\n",
       "<table border=\"1\" class=\"dataframe\">\n",
       "  <thead>\n",
       "    <tr style=\"text-align: right;\">\n",
       "      <th></th>\n",
       "      <th>fixed acidity</th>\n",
       "      <th>volatile acidity</th>\n",
       "      <th>citric acid</th>\n",
       "      <th>residual sugar</th>\n",
       "      <th>chlorides</th>\n",
       "      <th>free sulfur dioxide</th>\n",
       "      <th>total sulfur dioxide</th>\n",
       "      <th>density</th>\n",
       "      <th>pH</th>\n",
       "      <th>sulphates</th>\n",
       "      <th>alcohol</th>\n",
       "      <th>quality</th>\n",
       "    </tr>\n",
       "  </thead>\n",
       "  <tbody>\n",
       "    <tr>\n",
       "      <th>count</th>\n",
       "      <td>1599.000000</td>\n",
       "      <td>1599.000000</td>\n",
       "      <td>1599.000000</td>\n",
       "      <td>1599.000000</td>\n",
       "      <td>1599.000000</td>\n",
       "      <td>1599.000000</td>\n",
       "      <td>1599.000000</td>\n",
       "      <td>1599.000000</td>\n",
       "      <td>1599.000000</td>\n",
       "      <td>1599.000000</td>\n",
       "      <td>1599.000000</td>\n",
       "      <td>1599.000000</td>\n",
       "    </tr>\n",
       "    <tr>\n",
       "      <th>mean</th>\n",
       "      <td>8.319637</td>\n",
       "      <td>0.527821</td>\n",
       "      <td>0.270976</td>\n",
       "      <td>2.538806</td>\n",
       "      <td>0.087467</td>\n",
       "      <td>15.874922</td>\n",
       "      <td>46.467792</td>\n",
       "      <td>0.996747</td>\n",
       "      <td>3.311113</td>\n",
       "      <td>0.658149</td>\n",
       "      <td>10.422983</td>\n",
       "      <td>0.135710</td>\n",
       "    </tr>\n",
       "    <tr>\n",
       "      <th>std</th>\n",
       "      <td>1.741096</td>\n",
       "      <td>0.179060</td>\n",
       "      <td>0.194801</td>\n",
       "      <td>1.409928</td>\n",
       "      <td>0.047065</td>\n",
       "      <td>10.460157</td>\n",
       "      <td>32.895324</td>\n",
       "      <td>0.001887</td>\n",
       "      <td>0.154386</td>\n",
       "      <td>0.169507</td>\n",
       "      <td>1.065668</td>\n",
       "      <td>0.342587</td>\n",
       "    </tr>\n",
       "    <tr>\n",
       "      <th>min</th>\n",
       "      <td>4.600000</td>\n",
       "      <td>0.120000</td>\n",
       "      <td>0.000000</td>\n",
       "      <td>0.900000</td>\n",
       "      <td>0.012000</td>\n",
       "      <td>1.000000</td>\n",
       "      <td>6.000000</td>\n",
       "      <td>0.990070</td>\n",
       "      <td>2.740000</td>\n",
       "      <td>0.330000</td>\n",
       "      <td>8.400000</td>\n",
       "      <td>0.000000</td>\n",
       "    </tr>\n",
       "    <tr>\n",
       "      <th>25%</th>\n",
       "      <td>7.100000</td>\n",
       "      <td>0.390000</td>\n",
       "      <td>0.090000</td>\n",
       "      <td>1.900000</td>\n",
       "      <td>0.070000</td>\n",
       "      <td>7.000000</td>\n",
       "      <td>22.000000</td>\n",
       "      <td>0.995600</td>\n",
       "      <td>3.210000</td>\n",
       "      <td>0.550000</td>\n",
       "      <td>9.500000</td>\n",
       "      <td>0.000000</td>\n",
       "    </tr>\n",
       "    <tr>\n",
       "      <th>50%</th>\n",
       "      <td>7.900000</td>\n",
       "      <td>0.520000</td>\n",
       "      <td>0.260000</td>\n",
       "      <td>2.200000</td>\n",
       "      <td>0.079000</td>\n",
       "      <td>14.000000</td>\n",
       "      <td>38.000000</td>\n",
       "      <td>0.996750</td>\n",
       "      <td>3.310000</td>\n",
       "      <td>0.620000</td>\n",
       "      <td>10.200000</td>\n",
       "      <td>0.000000</td>\n",
       "    </tr>\n",
       "    <tr>\n",
       "      <th>75%</th>\n",
       "      <td>9.200000</td>\n",
       "      <td>0.640000</td>\n",
       "      <td>0.420000</td>\n",
       "      <td>2.600000</td>\n",
       "      <td>0.090000</td>\n",
       "      <td>21.000000</td>\n",
       "      <td>62.000000</td>\n",
       "      <td>0.997835</td>\n",
       "      <td>3.400000</td>\n",
       "      <td>0.730000</td>\n",
       "      <td>11.100000</td>\n",
       "      <td>0.000000</td>\n",
       "    </tr>\n",
       "    <tr>\n",
       "      <th>max</th>\n",
       "      <td>15.900000</td>\n",
       "      <td>1.580000</td>\n",
       "      <td>1.000000</td>\n",
       "      <td>15.500000</td>\n",
       "      <td>0.611000</td>\n",
       "      <td>72.000000</td>\n",
       "      <td>289.000000</td>\n",
       "      <td>1.003690</td>\n",
       "      <td>4.010000</td>\n",
       "      <td>2.000000</td>\n",
       "      <td>14.900000</td>\n",
       "      <td>1.000000</td>\n",
       "    </tr>\n",
       "  </tbody>\n",
       "</table>\n",
       "</div>"
      ],
      "text/plain": [
       "       fixed acidity  volatile acidity  citric acid  residual sugar  \\\n",
       "count    1599.000000       1599.000000  1599.000000     1599.000000   \n",
       "mean        8.319637          0.527821     0.270976        2.538806   \n",
       "std         1.741096          0.179060     0.194801        1.409928   \n",
       "min         4.600000          0.120000     0.000000        0.900000   \n",
       "25%         7.100000          0.390000     0.090000        1.900000   \n",
       "50%         7.900000          0.520000     0.260000        2.200000   \n",
       "75%         9.200000          0.640000     0.420000        2.600000   \n",
       "max        15.900000          1.580000     1.000000       15.500000   \n",
       "\n",
       "         chlorides  free sulfur dioxide  total sulfur dioxide      density  \\\n",
       "count  1599.000000          1599.000000           1599.000000  1599.000000   \n",
       "mean      0.087467            15.874922             46.467792     0.996747   \n",
       "std       0.047065            10.460157             32.895324     0.001887   \n",
       "min       0.012000             1.000000              6.000000     0.990070   \n",
       "25%       0.070000             7.000000             22.000000     0.995600   \n",
       "50%       0.079000            14.000000             38.000000     0.996750   \n",
       "75%       0.090000            21.000000             62.000000     0.997835   \n",
       "max       0.611000            72.000000            289.000000     1.003690   \n",
       "\n",
       "                pH    sulphates      alcohol      quality  \n",
       "count  1599.000000  1599.000000  1599.000000  1599.000000  \n",
       "mean      3.311113     0.658149    10.422983     0.135710  \n",
       "std       0.154386     0.169507     1.065668     0.342587  \n",
       "min       2.740000     0.330000     8.400000     0.000000  \n",
       "25%       3.210000     0.550000     9.500000     0.000000  \n",
       "50%       3.310000     0.620000    10.200000     0.000000  \n",
       "75%       3.400000     0.730000    11.100000     0.000000  \n",
       "max       4.010000     2.000000    14.900000     1.000000  "
      ]
     },
     "execution_count": 11,
     "metadata": {},
     "output_type": "execute_result"
    }
   ],
   "source": [
    "data.describe()"
   ]
  },
  {
   "cell_type": "markdown",
   "metadata": {},
   "source": [
    "Датасет \"чистый\", без пропусков. Признаки вещественные"
   ]
  },
  {
   "cell_type": "code",
   "execution_count": 12,
   "metadata": {},
   "outputs": [
    {
     "data": {
      "text/plain": [
       "0    1382\n",
       "1     217\n",
       "Name: quality, dtype: int64"
      ]
     },
     "execution_count": 12,
     "metadata": {},
     "output_type": "execute_result"
    }
   ],
   "source": [
    "data[target_col].value_counts()"
   ]
  },
  {
   "cell_type": "code",
   "execution_count": 13,
   "metadata": {},
   "outputs": [
    {
     "data": {
      "image/png": "[encoded data removed]",
      "text/plain": [
       "<Figure size 576x288 with 1 Axes>"
      ]
     },
     "metadata": {
      "needs_background": "light"
     },
     "output_type": "display_data"
    },
    {
     "data": {
      "image/png": "[encoded data removed]",
      "text/plain": [
       "<Figure size 576x288 with 1 Axes>"
      ]
     },
     "metadata": {
      "needs_background": "light"
     },
     "output_type": "display_data"
    },
    {
     "data": {
      "image/png": "[encoded data removed]",
      "text/plain": [
       "<Figure size 576x288 with 1 Axes>"
      ]
     },
     "metadata": {
      "needs_background": "light"
     },
     "output_type": "display_data"
    },
    {
     "data": {
      "image/png": "[encoded data removed]",
      "text/plain": [
       "<Figure size 576x288 with 1 Axes>"
      ]
     },
     "metadata": {
      "needs_background": "light"
     },
     "output_type": "display_data"
    },
    {
     "data": {
      "image/png": "[encoded data removed]",
      "text/plain": [
       "<Figure size 576x288 with 1 Axes>"
      ]
     },
     "metadata": {
      "needs_background": "light"
     },
     "output_type": "display_data"
    },
    {
     "data": {
      "image/png": "[encoded data removed]",
      "text/plain": [
       "<Figure size 576x288 with 1 Axes>"
      ]
     },
     "metadata": {
      "needs_background": "light"
     },
     "output_type": "display_data"
    },
    {
     "data": {
      "image/png": "[encoded data removed]",
      "text/plain": [
       "<Figure size 576x288 with 1 Axes>"
      ]
     },
     "metadata": {
      "needs_background": "light"
     },
     "output_type": "display_data"
    },
    {
     "data": {
      "image/png": "[encoded data removed]",
      "text/plain": [
       "<Figure size 576x288 with 1 Axes>"
      ]
     },
     "metadata": {
      "needs_background": "light"
     },
     "output_type": "display_data"
    },
    {
     "data": {
      "image/png": "[encoded data removed]",
      "text/plain": [
       "<Figure size 576x288 with 1 Axes>"
      ]
     },
     "metadata": {
      "needs_background": "light"
     },
     "output_type": "display_data"
    },
    {
     "data": {
      "image/png": "[encoded data removed]",
      "text/plain": [
       "<Figure size 576x288 with 1 Axes>"
      ]
     },
     "metadata": {
      "needs_background": "light"
     },
     "output_type": "display_data"
    },
    {
     "data": {
      "image/png": "[encoded data removed]",
      "text/plain": [
       "<Figure size 576x288 with 1 Axes>"
      ]
     },
     "metadata": {
      "needs_background": "light"
     },
     "output_type": "display_data"
    }
   ],
   "source": [
    "def get_barplots(data, column, target):\n",
    "    fig = plt.figure(figsize = (8,4))\n",
    "    sns.barplot(x = target, y = column, data = data)\n",
    "    \n",
    "for _ in num_cols:\n",
    "    get_barplots(data, _, target_col)"
   ]
  },
  {
   "cell_type": "markdown",
   "metadata": {},
   "source": [
    "<b>3. Сделать feature engineering. При этом постарайтесь «завернуть» ваш код для преобразования данных в классы или функции (пример Transformer как в ноутбуке).</b>"
   ]
  },
  {
   "cell_type": "code",
   "execution_count": 14,
   "metadata": {},
   "outputs": [],
   "source": [
    "from sklearn.pipeline import Pipeline"
   ]
  },
  {
   "cell_type": "code",
   "execution_count": 15,
   "metadata": {},
   "outputs": [],
   "source": [
    "def alco_sugar(x_loc):\n",
    "    scaler = StandardScaler()\n",
    "    x_loc['alco to sugar'] = x_loc['alcohol'] / x_loc['residual sugar']\n",
    "    x_loc['tsd to fsd'] = x_loc['total sulfur dioxide'] - x_loc['free sulfur dioxide']\n",
    "    x_loc[['alco to sugar', 'tsd to fsd']] = scaler.fit_transform(x_loc[['alco to sugar', 'tsd to fsd']])\n",
    "    \n",
    "    return x_loc[['alco to sugar', 'tsd to fsd']]"
   ]
  },
  {
   "cell_type": "code",
   "execution_count": 16,
   "metadata": {},
   "outputs": [],
   "source": [
    "from sklearn.preprocessing import FunctionTransformer"
   ]
  },
  {
   "cell_type": "code",
   "execution_count": 17,
   "metadata": {},
   "outputs": [],
   "source": [
    "alco_t = FunctionTransformer(alco_sugar, validate=False)"
   ]
  },
  {
   "cell_type": "code",
   "execution_count": 18,
   "metadata": {},
   "outputs": [],
   "source": [
    "fixed_acidity = Pipeline([\n",
    "                    ('selector', NumberSelector(key='fixed acidity')),\n",
    "                    ('scaler', StandardScaler())\n",
    "                ])\n",
    "\n",
    "volatile_acidity = Pipeline([\n",
    "                    ('selector', NumberSelector(key='volatile acidity')),\n",
    "                    ('scaler', StandardScaler())\n",
    "                ])\n",
    "\n",
    "citric_acid = Pipeline([\n",
    "                    ('selector', NumberSelector(key='citric acid')),\n",
    "                    ('scaler', StandardScaler())\n",
    "                ])\n",
    "\n",
    "residual_sugar = Pipeline([\n",
    "                    ('selector', NumberSelector(key='residual sugar')),\n",
    "                    ('scaler', StandardScaler())\n",
    "                ])\n",
    "\n",
    "chlorides = Pipeline([\n",
    "                    ('selector', NumberSelector(key='chlorides')),\n",
    "                    ('scaler', StandardScaler())\n",
    "                ])\n",
    "\n",
    "free_sulfur_dioxide = Pipeline([\n",
    "                    ('selector', NumberSelector(key='free sulfur dioxide')),\n",
    "                    ('scaler', StandardScaler())\n",
    "                ])\n",
    "\n",
    "total_sulfur_dioxide = Pipeline([\n",
    "                    ('selector', NumberSelector(key='total sulfur dioxide')),\n",
    "                    ('scaler', StandardScaler())\n",
    "                ])\n",
    "\n",
    "density = Pipeline([\n",
    "                    ('selector', NumberSelector(key='density')),\n",
    "                    ('scaler', StandardScaler())\n",
    "                ])\n",
    "\n",
    "pH = Pipeline([\n",
    "                    ('selector', NumberSelector(key='pH')),\n",
    "                    ('scaler', StandardScaler())\n",
    "                ])\n",
    "\n",
    "sulphates = Pipeline([\n",
    "                    ('selector', NumberSelector(key='sulphates')),\n",
    "                    ('scaler', StandardScaler())\n",
    "                ])\n",
    "\n",
    "alcohol = Pipeline([\n",
    "                    ('selector', NumberSelector(key='alcohol')),\n",
    "                    ('scaler', StandardScaler())\n",
    "                ])"
   ]
  },
  {
   "cell_type": "code",
   "execution_count": 19,
   "metadata": {},
   "outputs": [],
   "source": [
    "from sklearn.pipeline import FeatureUnion"
   ]
  },
  {
   "cell_type": "code",
   "execution_count": 20,
   "metadata": {},
   "outputs": [],
   "source": [
    "feats = FeatureUnion([('alco_t', alco_t),\n",
    "                      ('fixed_acidity', fixed_acidity), \n",
    "                      ('volatile_acidity', volatile_acidity),\n",
    "                      ('citric_acid', citric_acid),\n",
    "                      ('residual_sugar', residual_sugar),\n",
    "                      ('chlorides', chlorides),\n",
    "                      ('free_sulfur_dioxide', free_sulfur_dioxide),\n",
    "                      ('total_sulfur_dioxide', total_sulfur_dioxide),\n",
    "                      ('density', density),\n",
    "                      ('pH', pH),\n",
    "                      ('sulphates', sulphates),\n",
    "                      ('alcohol', alcohol)])\n",
    "\n",
    "# feats = FeatureUnion([\n",
    "#                       ('fixed_acidity', fixed_acidity), \n",
    "#                       ('volatile_acidity', volatile_acidity),\n",
    "#                       ('citric_acid', citric_acid),\n",
    "#                       ('residual_sugar', residual_sugar),\n",
    "#                       ('chlorides', chlorides),\n",
    "#                       ('free_sulfur_dioxide', free_sulfur_dioxide),\n",
    "#                       ('total_sulfur_dioxide', total_sulfur_dioxide),\n",
    "#                       ('density', density),\n",
    "#                       ('pH', pH),\n",
    "#                       ('sulphates', sulphates),\n",
    "#                       ('alcohol', alcohol)])\n",
    "\n",
    "# feats = FeatureUnion([('test_pipe', test_pipe),\n",
    "#                       ('fixed_acidity', fixed_acidity)])"
   ]
  },
  {
   "cell_type": "code",
   "execution_count": 21,
   "metadata": {},
   "outputs": [
    {
     "data": {
      "text/plain": [
       "array([[ 0.31657243, -0.62656982, -1.35121517, ...,  1.52397193,\n",
       "         1.51173262,  0.28631545],\n",
       "       [ 1.31630786, -0.91849261,  0.16067276, ...,  0.27210289,\n",
       "         0.16555338,  1.23854945],\n",
       "       [ 0.21320996, -0.51709877, -0.59527121, ...,  1.98518684,\n",
       "         1.68000502, -0.47547176],\n",
       "       ...,\n",
       "       [-0.06434371,  0.76006344, -0.76971981, ...,  0.53565426,\n",
       "         0.61427979,  0.95287925],\n",
       "       [ 0.96046983, -0.95498296,  0.97476626, ..., -0.51855124,\n",
       "        -0.78799024,  1.52421965],\n",
       "       [-1.69645416,  2.14669669, -0.76971981, ..., -0.05733633,\n",
       "         2.85791185, -0.18980155]])"
      ]
     },
     "execution_count": 21,
     "metadata": {},
     "output_type": "execute_result"
    }
   ],
   "source": [
    "feature_processing = Pipeline([('feats', feats)])\n",
    "feature_processing.fit_transform(x_train)"
   ]
  },
  {
   "cell_type": "code",
   "execution_count": 22,
   "metadata": {},
   "outputs": [],
   "source": [
    "pipeline = Pipeline([\n",
    "                ('features', feats),\n",
    "                ('classifier', LGBMClassifier(random_state=10))\n",
    "            ])"
   ]
  },
  {
   "cell_type": "code",
   "execution_count": 23,
   "metadata": {},
   "outputs": [
    {
     "data": {
      "text/plain": [
       "Pipeline(steps=[('features',\n",
       "                 FeatureUnion(transformer_list=[('alco_t',\n",
       "                                                 FunctionTransformer(func=<function alco_sugar at 0x000002941928C8C8>)),\n",
       "                                                ('fixed_acidity',\n",
       "                                                 Pipeline(steps=[('selector',\n",
       "                                                                  NumberSelector(key='fixed '\n",
       "                                                                                     'acidity')),\n",
       "                                                                 ('scaler',\n",
       "                                                                  StandardScaler())])),\n",
       "                                                ('volatile_acidity',\n",
       "                                                 Pipeline(steps=[('selector',\n",
       "                                                                  NumberSelector(key='volatile '\n",
       "                                                                                     'acidity')),\n",
       "                                                                 ('scaler',...\n",
       "                                                                  StandardScaler())])),\n",
       "                                                ('pH',\n",
       "                                                 Pipeline(steps=[('selector',\n",
       "                                                                  NumberSelector(key='pH')),\n",
       "                                                                 ('scaler',\n",
       "                                                                  StandardScaler())])),\n",
       "                                                ('sulphates',\n",
       "                                                 Pipeline(steps=[('selector',\n",
       "                                                                  NumberSelector(key='sulphates')),\n",
       "                                                                 ('scaler',\n",
       "                                                                  StandardScaler())])),\n",
       "                                                ('alcohol',\n",
       "                                                 Pipeline(steps=[('selector',\n",
       "                                                                  NumberSelector(key='alcohol')),\n",
       "                                                                 ('scaler',\n",
       "                                                                  StandardScaler())]))])),\n",
       "                ('classifier', LGBMClassifier(random_state=10))])"
      ]
     },
     "execution_count": 23,
     "metadata": {},
     "output_type": "execute_result"
    }
   ],
   "source": [
    "pipeline.fit(x_train, y_train)"
   ]
  },
  {
   "cell_type": "code",
   "execution_count": 24,
   "metadata": {},
   "outputs": [
    {
     "data": {
      "text/plain": [
       "0.88125"
      ]
     },
     "execution_count": 24,
     "metadata": {},
     "output_type": "execute_result"
    }
   ],
   "source": [
    "pred = pipeline.predict(x_test)\n",
    "accuracy_score(y_test, pred)"
   ]
  },
  {
   "cell_type": "code",
   "execution_count": 25,
   "metadata": {},
   "outputs": [
    {
     "data": {
      "text/plain": [
       "{'memory': None,\n",
       " 'steps': [('features', FeatureUnion(transformer_list=[('alco_t',\n",
       "                                   FunctionTransformer(func=<function alco_sugar at 0x000002941928C8C8>)),\n",
       "                                  ('fixed_acidity',\n",
       "                                   Pipeline(steps=[('selector',\n",
       "                                                    NumberSelector(key='fixed '\n",
       "                                                                       'acidity')),\n",
       "                                                   ('scaler', StandardScaler())])),\n",
       "                                  ('volatile_acidity',\n",
       "                                   Pipeline(steps=[('selector',\n",
       "                                                    NumberSelector(key='volatile '\n",
       "                                                                       'acidity')),\n",
       "                                                   ('scaler', StandardScaler())])),\n",
       "                                  ('citri...\n",
       "                                                    NumberSelector(key='density')),\n",
       "                                                   ('scaler', StandardScaler())])),\n",
       "                                  ('pH',\n",
       "                                   Pipeline(steps=[('selector',\n",
       "                                                    NumberSelector(key='pH')),\n",
       "                                                   ('scaler', StandardScaler())])),\n",
       "                                  ('sulphates',\n",
       "                                   Pipeline(steps=[('selector',\n",
       "                                                    NumberSelector(key='sulphates')),\n",
       "                                                   ('scaler', StandardScaler())])),\n",
       "                                  ('alcohol',\n",
       "                                   Pipeline(steps=[('selector',\n",
       "                                                    NumberSelector(key='alcohol')),\n",
       "                                                   ('scaler',\n",
       "                                                    StandardScaler())]))])),\n",
       "  ('classifier', LGBMClassifier(random_state=10))],\n",
       " 'verbose': False,\n",
       " 'features': FeatureUnion(transformer_list=[('alco_t',\n",
       "                                 FunctionTransformer(func=<function alco_sugar at 0x000002941928C8C8>)),\n",
       "                                ('fixed_acidity',\n",
       "                                 Pipeline(steps=[('selector',\n",
       "                                                  NumberSelector(key='fixed '\n",
       "                                                                     'acidity')),\n",
       "                                                 ('scaler', StandardScaler())])),\n",
       "                                ('volatile_acidity',\n",
       "                                 Pipeline(steps=[('selector',\n",
       "                                                  NumberSelector(key='volatile '\n",
       "                                                                     'acidity')),\n",
       "                                                 ('scaler', StandardScaler())])),\n",
       "                                ('citri...\n",
       "                                                  NumberSelector(key='density')),\n",
       "                                                 ('scaler', StandardScaler())])),\n",
       "                                ('pH',\n",
       "                                 Pipeline(steps=[('selector',\n",
       "                                                  NumberSelector(key='pH')),\n",
       "                                                 ('scaler', StandardScaler())])),\n",
       "                                ('sulphates',\n",
       "                                 Pipeline(steps=[('selector',\n",
       "                                                  NumberSelector(key='sulphates')),\n",
       "                                                 ('scaler', StandardScaler())])),\n",
       "                                ('alcohol',\n",
       "                                 Pipeline(steps=[('selector',\n",
       "                                                  NumberSelector(key='alcohol')),\n",
       "                                                 ('scaler',\n",
       "                                                  StandardScaler())]))]),\n",
       " 'classifier': LGBMClassifier(random_state=10),\n",
       " 'features__n_jobs': None,\n",
       " 'features__transformer_list': [('alco_t',\n",
       "   FunctionTransformer(func=<function alco_sugar at 0x000002941928C8C8>)),\n",
       "  ('fixed_acidity',\n",
       "   Pipeline(steps=[('selector', NumberSelector(key='fixed acidity')),\n",
       "                   ('scaler', StandardScaler())])),\n",
       "  ('volatile_acidity',\n",
       "   Pipeline(steps=[('selector', NumberSelector(key='volatile acidity')),\n",
       "                   ('scaler', StandardScaler())])),\n",
       "  ('citric_acid',\n",
       "   Pipeline(steps=[('selector', NumberSelector(key='citric acid')),\n",
       "                   ('scaler', StandardScaler())])),\n",
       "  ('residual_sugar',\n",
       "   Pipeline(steps=[('selector', NumberSelector(key='residual sugar')),\n",
       "                   ('scaler', StandardScaler())])),\n",
       "  ('chlorides', Pipeline(steps=[('selector', NumberSelector(key='chlorides')),\n",
       "                   ('scaler', StandardScaler())])),\n",
       "  ('free_sulfur_dioxide',\n",
       "   Pipeline(steps=[('selector', NumberSelector(key='free sulfur dioxide')),\n",
       "                   ('scaler', StandardScaler())])),\n",
       "  ('total_sulfur_dioxide',\n",
       "   Pipeline(steps=[('selector', NumberSelector(key='total sulfur dioxide')),\n",
       "                   ('scaler', StandardScaler())])),\n",
       "  ('density', Pipeline(steps=[('selector', NumberSelector(key='density')),\n",
       "                   ('scaler', StandardScaler())])),\n",
       "  ('pH', Pipeline(steps=[('selector', NumberSelector(key='pH')),\n",
       "                   ('scaler', StandardScaler())])),\n",
       "  ('sulphates', Pipeline(steps=[('selector', NumberSelector(key='sulphates')),\n",
       "                   ('scaler', StandardScaler())])),\n",
       "  ('alcohol', Pipeline(steps=[('selector', NumberSelector(key='alcohol')),\n",
       "                   ('scaler', StandardScaler())]))],\n",
       " 'features__transformer_weights': None,\n",
       " 'features__verbose': False,\n",
       " 'features__alco_t': FunctionTransformer(func=<function alco_sugar at 0x000002941928C8C8>),\n",
       " 'features__fixed_acidity': Pipeline(steps=[('selector', NumberSelector(key='fixed acidity')),\n",
       "                 ('scaler', StandardScaler())]),\n",
       " 'features__volatile_acidity': Pipeline(steps=[('selector', NumberSelector(key='volatile acidity')),\n",
       "                 ('scaler', StandardScaler())]),\n",
       " 'features__citric_acid': Pipeline(steps=[('selector', NumberSelector(key='citric acid')),\n",
       "                 ('scaler', StandardScaler())]),\n",
       " 'features__residual_sugar': Pipeline(steps=[('selector', NumberSelector(key='residual sugar')),\n",
       "                 ('scaler', StandardScaler())]),\n",
       " 'features__chlorides': Pipeline(steps=[('selector', NumberSelector(key='chlorides')),\n",
       "                 ('scaler', StandardScaler())]),\n",
       " 'features__free_sulfur_dioxide': Pipeline(steps=[('selector', NumberSelector(key='free sulfur dioxide')),\n",
       "                 ('scaler', StandardScaler())]),\n",
       " 'features__total_sulfur_dioxide': Pipeline(steps=[('selector', NumberSelector(key='total sulfur dioxide')),\n",
       "                 ('scaler', StandardScaler())]),\n",
       " 'features__density': Pipeline(steps=[('selector', NumberSelector(key='density')),\n",
       "                 ('scaler', StandardScaler())]),\n",
       " 'features__pH': Pipeline(steps=[('selector', NumberSelector(key='pH')),\n",
       "                 ('scaler', StandardScaler())]),\n",
       " 'features__sulphates': Pipeline(steps=[('selector', NumberSelector(key='sulphates')),\n",
       "                 ('scaler', StandardScaler())]),\n",
       " 'features__alcohol': Pipeline(steps=[('selector', NumberSelector(key='alcohol')),\n",
       "                 ('scaler', StandardScaler())]),\n",
       " 'features__alco_t__accept_sparse': False,\n",
       " 'features__alco_t__check_inverse': True,\n",
       " 'features__alco_t__func': <function __main__.alco_sugar(x_loc)>,\n",
       " 'features__alco_t__inv_kw_args': None,\n",
       " 'features__alco_t__inverse_func': None,\n",
       " 'features__alco_t__kw_args': None,\n",
       " 'features__alco_t__validate': False,\n",
       " 'features__fixed_acidity__memory': None,\n",
       " 'features__fixed_acidity__steps': [('selector',\n",
       "   NumberSelector(key='fixed acidity')),\n",
       "  ('scaler', StandardScaler())],\n",
       " 'features__fixed_acidity__verbose': False,\n",
       " 'features__fixed_acidity__selector': NumberSelector(key='fixed acidity'),\n",
       " 'features__fixed_acidity__scaler': StandardScaler(),\n",
       " 'features__fixed_acidity__selector__key': 'fixed acidity',\n",
       " 'features__fixed_acidity__scaler__copy': True,\n",
       " 'features__fixed_acidity__scaler__with_mean': True,\n",
       " 'features__fixed_acidity__scaler__with_std': True,\n",
       " 'features__volatile_acidity__memory': None,\n",
       " 'features__volatile_acidity__steps': [('selector',\n",
       "   NumberSelector(key='volatile acidity')),\n",
       "  ('scaler', StandardScaler())],\n",
       " 'features__volatile_acidity__verbose': False,\n",
       " 'features__volatile_acidity__selector': NumberSelector(key='volatile acidity'),\n",
       " 'features__volatile_acidity__scaler': StandardScaler(),\n",
       " 'features__volatile_acidity__selector__key': 'volatile acidity',\n",
       " 'features__volatile_acidity__scaler__copy': True,\n",
       " 'features__volatile_acidity__scaler__with_mean': True,\n",
       " 'features__volatile_acidity__scaler__with_std': True,\n",
       " 'features__citric_acid__memory': None,\n",
       " 'features__citric_acid__steps': [('selector',\n",
       "   NumberSelector(key='citric acid')),\n",
       "  ('scaler', StandardScaler())],\n",
       " 'features__citric_acid__verbose': False,\n",
       " 'features__citric_acid__selector': NumberSelector(key='citric acid'),\n",
       " 'features__citric_acid__scaler': StandardScaler(),\n",
       " 'features__citric_acid__selector__key': 'citric acid',\n",
       " 'features__citric_acid__scaler__copy': True,\n",
       " 'features__citric_acid__scaler__with_mean': True,\n",
       " 'features__citric_acid__scaler__with_std': True,\n",
       " 'features__residual_sugar__memory': None,\n",
       " 'features__residual_sugar__steps': [('selector',\n",
       "   NumberSelector(key='residual sugar')),\n",
       "  ('scaler', StandardScaler())],\n",
       " 'features__residual_sugar__verbose': False,\n",
       " 'features__residual_sugar__selector': NumberSelector(key='residual sugar'),\n",
       " 'features__residual_sugar__scaler': StandardScaler(),\n",
       " 'features__residual_sugar__selector__key': 'residual sugar',\n",
       " 'features__residual_sugar__scaler__copy': True,\n",
       " 'features__residual_sugar__scaler__with_mean': True,\n",
       " 'features__residual_sugar__scaler__with_std': True,\n",
       " 'features__chlorides__memory': None,\n",
       " 'features__chlorides__steps': [('selector', NumberSelector(key='chlorides')),\n",
       "  ('scaler', StandardScaler())],\n",
       " 'features__chlorides__verbose': False,\n",
       " 'features__chlorides__selector': NumberSelector(key='chlorides'),\n",
       " 'features__chlorides__scaler': StandardScaler(),\n",
       " 'features__chlorides__selector__key': 'chlorides',\n",
       " 'features__chlorides__scaler__copy': True,\n",
       " 'features__chlorides__scaler__with_mean': True,\n",
       " 'features__chlorides__scaler__with_std': True,\n",
       " 'features__free_sulfur_dioxide__memory': None,\n",
       " 'features__free_sulfur_dioxide__steps': [('selector',\n",
       "   NumberSelector(key='free sulfur dioxide')),\n",
       "  ('scaler', StandardScaler())],\n",
       " 'features__free_sulfur_dioxide__verbose': False,\n",
       " 'features__free_sulfur_dioxide__selector': NumberSelector(key='free sulfur dioxide'),\n",
       " 'features__free_sulfur_dioxide__scaler': StandardScaler(),\n",
       " 'features__free_sulfur_dioxide__selector__key': 'free sulfur dioxide',\n",
       " 'features__free_sulfur_dioxide__scaler__copy': True,\n",
       " 'features__free_sulfur_dioxide__scaler__with_mean': True,\n",
       " 'features__free_sulfur_dioxide__scaler__with_std': True,\n",
       " 'features__total_sulfur_dioxide__memory': None,\n",
       " 'features__total_sulfur_dioxide__steps': [('selector',\n",
       "   NumberSelector(key='total sulfur dioxide')),\n",
       "  ('scaler', StandardScaler())],\n",
       " 'features__total_sulfur_dioxide__verbose': False,\n",
       " 'features__total_sulfur_dioxide__selector': NumberSelector(key='total sulfur dioxide'),\n",
       " 'features__total_sulfur_dioxide__scaler': StandardScaler(),\n",
       " 'features__total_sulfur_dioxide__selector__key': 'total sulfur dioxide',\n",
       " 'features__total_sulfur_dioxide__scaler__copy': True,\n",
       " 'features__total_sulfur_dioxide__scaler__with_mean': True,\n",
       " 'features__total_sulfur_dioxide__scaler__with_std': True,\n",
       " 'features__density__memory': None,\n",
       " 'features__density__steps': [('selector', NumberSelector(key='density')),\n",
       "  ('scaler', StandardScaler())],\n",
       " 'features__density__verbose': False,\n",
       " 'features__density__selector': NumberSelector(key='density'),\n",
       " 'features__density__scaler': StandardScaler(),\n",
       " 'features__density__selector__key': 'density',\n",
       " 'features__density__scaler__copy': True,\n",
       " 'features__density__scaler__with_mean': True,\n",
       " 'features__density__scaler__with_std': True,\n",
       " 'features__pH__memory': None,\n",
       " 'features__pH__steps': [('selector', NumberSelector(key='pH')),\n",
       "  ('scaler', StandardScaler())],\n",
       " 'features__pH__verbose': False,\n",
       " 'features__pH__selector': NumberSelector(key='pH'),\n",
       " 'features__pH__scaler': StandardScaler(),\n",
       " 'features__pH__selector__key': 'pH',\n",
       " 'features__pH__scaler__copy': True,\n",
       " 'features__pH__scaler__with_mean': True,\n",
       " 'features__pH__scaler__with_std': True,\n",
       " 'features__sulphates__memory': None,\n",
       " 'features__sulphates__steps': [('selector', NumberSelector(key='sulphates')),\n",
       "  ('scaler', StandardScaler())],\n",
       " 'features__sulphates__verbose': False,\n",
       " 'features__sulphates__selector': NumberSelector(key='sulphates'),\n",
       " 'features__sulphates__scaler': StandardScaler(),\n",
       " 'features__sulphates__selector__key': 'sulphates',\n",
       " 'features__sulphates__scaler__copy': True,\n",
       " 'features__sulphates__scaler__with_mean': True,\n",
       " 'features__sulphates__scaler__with_std': True,\n",
       " 'features__alcohol__memory': None,\n",
       " 'features__alcohol__steps': [('selector', NumberSelector(key='alcohol')),\n",
       "  ('scaler', StandardScaler())],\n",
       " 'features__alcohol__verbose': False,\n",
       " 'features__alcohol__selector': NumberSelector(key='alcohol'),\n",
       " 'features__alcohol__scaler': StandardScaler(),\n",
       " 'features__alcohol__selector__key': 'alcohol',\n",
       " 'features__alcohol__scaler__copy': True,\n",
       " 'features__alcohol__scaler__with_mean': True,\n",
       " 'features__alcohol__scaler__with_std': True,\n",
       " 'classifier__boosting_type': 'gbdt',\n",
       " 'classifier__class_weight': None,\n",
       " 'classifier__colsample_bytree': 1.0,\n",
       " 'classifier__importance_type': 'split',\n",
       " 'classifier__learning_rate': 0.1,\n",
       " 'classifier__max_depth': -1,\n",
       " 'classifier__min_child_samples': 20,\n",
       " 'classifier__min_child_weight': 0.001,\n",
       " 'classifier__min_split_gain': 0.0,\n",
       " 'classifier__n_estimators': 100,\n",
       " 'classifier__n_jobs': -1,\n",
       " 'classifier__num_leaves': 31,\n",
       " 'classifier__objective': None,\n",
       " 'classifier__random_state': 10,\n",
       " 'classifier__reg_alpha': 0.0,\n",
       " 'classifier__reg_lambda': 0.0,\n",
       " 'classifier__silent': True,\n",
       " 'classifier__subsample': 1.0,\n",
       " 'classifier__subsample_for_bin': 200000,\n",
       " 'classifier__subsample_freq': 0}"
      ]
     },
     "execution_count": 25,
     "metadata": {},
     "output_type": "execute_result"
    }
   ],
   "source": [
    "pipeline.get_params()"
   ]
  },
  {
   "cell_type": "code",
   "execution_count": 26,
   "metadata": {},
   "outputs": [
    {
     "data": {
      "text/plain": [
       "GridSearchCV(cv=5,\n",
       "             estimator=Pipeline(steps=[('features',\n",
       "                                        FeatureUnion(transformer_list=[('alco_t',\n",
       "                                                                        FunctionTransformer(func=<function alco_sugar at 0x000002941928C8C8>)),\n",
       "                                                                       ('fixed_acidity',\n",
       "                                                                        Pipeline(steps=[('selector',\n",
       "                                                                                         NumberSelector(key='fixed '\n",
       "                                                                                                            'acidity')),\n",
       "                                                                                        ('scaler',\n",
       "                                                                                         StandardScaler())])),\n",
       "                                                                       ('volatile_acidity',\n",
       "                                                                        Pipeline(steps=[('selector',\n",
       "                                                                                         NumberSelector(key='vol...\n",
       "                                                                        Pipeline(steps=[('selector',\n",
       "                                                                                         NumberSelector(key='sulphates')),\n",
       "                                                                                        ('scaler',\n",
       "                                                                                         StandardScaler())])),\n",
       "                                                                       ('alcohol',\n",
       "                                                                        Pipeline(steps=[('selector',\n",
       "                                                                                         NumberSelector(key='alcohol')),\n",
       "                                                                                        ('scaler',\n",
       "                                                                                         StandardScaler())]))])),\n",
       "                                       ('classifier',\n",
       "                                        LGBMClassifier(random_state=10))]),\n",
       "             param_grid={'classifier__learning_rate': [0.1, 0.01],\n",
       "                         'classifier__max_depth': [-1, 8, 12],\n",
       "                         'classifier__num_leaves': [31, 15]})"
      ]
     },
     "execution_count": 26,
     "metadata": {},
     "output_type": "execute_result"
    }
   ],
   "source": [
    "from sklearn.model_selection import GridSearchCV\n",
    "\n",
    "hyperparameters = { 'classifier__learning_rate': [0.1, 0.01],\n",
    "                    'classifier__max_depth': [-1, 8, 12],\n",
    "                    'classifier__num_leaves': [31, 15]\n",
    "                  }\n",
    "\n",
    "clf = GridSearchCV(pipeline, hyperparameters, cv=5)\n",
    " \n",
    "# Fit and tune model\n",
    "clf.fit(x_train, y_train)"
   ]
  },
  {
   "cell_type": "code",
   "execution_count": 27,
   "metadata": {},
   "outputs": [],
   "source": [
    "pred = clf.predict(x_test)\n",
    "pred_proba = clf.predict_proba(x_test)"
   ]
  },
  {
   "cell_type": "code",
   "execution_count": 28,
   "metadata": {},
   "outputs": [],
   "source": [
    "from sklearn.metrics import classification_report, roc_auc_score, roc_curve"
   ]
  },
  {
   "cell_type": "code",
   "execution_count": 29,
   "metadata": {},
   "outputs": [
    {
     "name": "stdout",
     "output_type": "stream",
     "text": [
      "\n",
      " Classification report : \n",
      "               precision    recall  f1-score   support\n",
      "\n",
      "           0       0.91      0.96      0.94       270\n",
      "           1       0.71      0.48      0.57        50\n",
      "\n",
      "    accuracy                           0.89       320\n",
      "   macro avg       0.81      0.72      0.75       320\n",
      "weighted avg       0.88      0.89      0.88       320\n",
      "\n",
      "Accuracy   Score :  0.8875\n",
      "Area under curve :  0.7214814814814815 \n",
      "\n"
     ]
    }
   ],
   "source": [
    "print (\"\\n Classification report : \\n\",classification_report(y_test,pred))\n",
    "print (\"Accuracy   Score : \",accuracy_score(y_test,pred))\n",
    "#roc_auc_score\n",
    "model_roc_auc = roc_auc_score(y_test,pred) \n",
    "print (\"Area under curve : \",model_roc_auc,\"\\n\")\n",
    "fpr,tpr,thresholds = roc_curve(y_test,pred_proba[:,1 ])"
   ]
  },
  {
   "cell_type": "code",
   "execution_count": 30,
   "metadata": {},
   "outputs": [
    {
     "data": {
      "text/plain": [
       "[<matplotlib.lines.Line2D at 0x29419209b38>]"
      ]
     },
     "execution_count": 30,
     "metadata": {},
     "output_type": "execute_result"
    },
    {
     "data": {
      "image/png": "[encoded data removed]",
      "text/plain": [
       "<Figure size 720x432 with 1 Axes>"
      ]
     },
     "metadata": {},
     "output_type": "display_data"
    }
   ],
   "source": [
    "sns.set(font_scale=1.5)\n",
    "sns.set_color_codes(\"muted\")\n",
    "plt.figure(figsize=(10, 6))\n",
    "plt.plot(fpr, tpr,  label='ROC curve ')\n",
    "plt.plot([0, 1], [0, 1])"
   ]
  },
  {
   "cell_type": "code",
   "execution_count": 31,
   "metadata": {},
   "outputs": [],
   "source": [
    "pipeline = Pipeline([\n",
    "                ('features', feats),\n",
    "                ('classifier', LGBMClassifier(random_state=10, **clf.best_params_))\n",
    "            ])"
   ]
  },
  {
   "cell_type": "code",
   "execution_count": 32,
   "metadata": {},
   "outputs": [
    {
     "data": {
      "text/plain": [
       "Pipeline(steps=[('features',\n",
       "                 FeatureUnion(transformer_list=[('alco_t',\n",
       "                                                 FunctionTransformer(func=<function alco_sugar at 0x000002941928C8C8>)),\n",
       "                                                ('fixed_acidity',\n",
       "                                                 Pipeline(steps=[('selector',\n",
       "                                                                  NumberSelector(key='fixed '\n",
       "                                                                                     'acidity')),\n",
       "                                                                 ('scaler',\n",
       "                                                                  StandardScaler())])),\n",
       "                                                ('volatile_acidity',\n",
       "                                                 Pipeline(steps=[('selector',\n",
       "                                                                  NumberSelector(key='volatile '\n",
       "                                                                                     'acidity')),\n",
       "                                                                 ('scaler',...\n",
       "                                                                  StandardScaler())])),\n",
       "                                                ('sulphates',\n",
       "                                                 Pipeline(steps=[('selector',\n",
       "                                                                  NumberSelector(key='sulphates')),\n",
       "                                                                 ('scaler',\n",
       "                                                                  StandardScaler())])),\n",
       "                                                ('alcohol',\n",
       "                                                 Pipeline(steps=[('selector',\n",
       "                                                                  NumberSelector(key='alcohol')),\n",
       "                                                                 ('scaler',\n",
       "                                                                  StandardScaler())]))])),\n",
       "                ('classifier',\n",
       "                 LGBMClassifier(classifier__learning_rate=0.1,\n",
       "                                classifier__max_depth=12,\n",
       "                                classifier__num_leaves=31, random_state=10))])"
      ]
     },
     "execution_count": 32,
     "metadata": {},
     "output_type": "execute_result"
    }
   ],
   "source": [
    "pipeline.fit(x_train, y_train)"
   ]
  },
  {
   "cell_type": "code",
   "execution_count": 33,
   "metadata": {},
   "outputs": [],
   "source": [
    "import dill"
   ]
  },
  {
   "cell_type": "code",
   "execution_count": 34,
   "metadata": {},
   "outputs": [],
   "source": [
    "with open(\"model_trained.dill\", \"wb\") as f:\n",
    "    dill.dump(pipeline, f)"
   ]
  },
  {
   "cell_type": "code",
   "execution_count": null,
   "metadata": {},
   "outputs": [],
   "source": []
  }
 ],
 "metadata": {
  "kernelspec": {
   "display_name": "Python 3",
   "language": "python",
   "name": "python3"
  },
  "language_info": {
   "codemirror_mode": {
    "name": "ipython",
    "version": 3
   },
   "file_extension": ".py",
   "mimetype": "text/x-python",
   "name": "python",
   "nbconvert_exporter": "python",
   "pygments_lexer": "ipython3",
   "version": "3.7.3"
  }
 },
 "nbformat": 4,
 "nbformat_minor": 2
}
